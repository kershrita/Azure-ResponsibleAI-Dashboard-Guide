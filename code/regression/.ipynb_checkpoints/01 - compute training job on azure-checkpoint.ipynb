{
 "cells": [
  {
   "cell_type": "markdown",
   "metadata": {},
   "source": [
    "## Prepare dataset"
   ]
  },
  {
   "cell_type": "code",
   "execution_count": 1,
   "metadata": {
    "gather": {
     "logged": 1684434354391
    }
   },
   "outputs": [
    {
     "data": {
      "text/html": [
       "<div>\n",
       "<style scoped>\n",
       "    .dataframe tbody tr th:only-of-type {\n",
       "        vertical-align: middle;\n",
       "    }\n",
       "\n",
       "    .dataframe tbody tr th {\n",
       "        vertical-align: top;\n",
       "    }\n",
       "\n",
       "    .dataframe thead th {\n",
       "        text-align: right;\n",
       "    }\n",
       "</style>\n",
       "<table border=\"1\" class=\"dataframe\">\n",
       "  <thead>\n",
       "    <tr style=\"text-align: right;\">\n",
       "      <th></th>\n",
       "      <th>Promotion Name</th>\n",
       "      <th>Store Kind</th>\n",
       "      <th>Store Sales</th>\n",
       "      <th>Store Cost</th>\n",
       "      <th>Is Recyclable?</th>\n",
       "      <th>Store Area</th>\n",
       "      <th>Grocery Area</th>\n",
       "      <th>Frozen Area</th>\n",
       "      <th>Meat Area</th>\n",
       "      <th>Cost</th>\n",
       "      <th>...</th>\n",
       "      <th>Store Code</th>\n",
       "      <th>Country ISO2</th>\n",
       "      <th>Order Brand</th>\n",
       "      <th>Order</th>\n",
       "      <th>Department</th>\n",
       "      <th>Amenities Score</th>\n",
       "      <th>Gross Weight</th>\n",
       "      <th>Net Weight</th>\n",
       "      <th>Package Weight</th>\n",
       "      <th>Min. Person Yearly Income</th>\n",
       "    </tr>\n",
       "  </thead>\n",
       "  <tbody>\n",
       "    <tr>\n",
       "      <th>0</th>\n",
       "      <td>Dimes Off</td>\n",
       "      <td>Deluxe</td>\n",
       "      <td>8760000.0</td>\n",
       "      <td>4292400.0</td>\n",
       "      <td>yes</td>\n",
       "      <td>2842.23</td>\n",
       "      <td>2037.64</td>\n",
       "      <td>481.98</td>\n",
       "      <td>323.000000</td>\n",
       "      <td>602.7575</td>\n",
       "      <td>...</td>\n",
       "      <td>H11go</td>\n",
       "      <td>ZA</td>\n",
       "      <td>Red Wing</td>\n",
       "      <td>Cleaning Supplies</td>\n",
       "      <td>Household</td>\n",
       "      <td>5</td>\n",
       "      <td>28.1997</td>\n",
       "      <td>26.6008</td>\n",
       "      <td>1.5990</td>\n",
       "      <td>10000.0</td>\n",
       "    </tr>\n",
       "    <tr>\n",
       "      <th>1</th>\n",
       "      <td>Budget Bargains</td>\n",
       "      <td>Supermarket</td>\n",
       "      <td>6360000.0</td>\n",
       "      <td>1971600.0</td>\n",
       "      <td>no</td>\n",
       "      <td>2814.95</td>\n",
       "      <td>2049.72</td>\n",
       "      <td>457.36</td>\n",
       "      <td>304.976672</td>\n",
       "      <td>708.6650</td>\n",
       "      <td>...</td>\n",
       "      <td>S04ne</td>\n",
       "      <td>WA</td>\n",
       "      <td>Nationeel</td>\n",
       "      <td>Snack Foods</td>\n",
       "      <td>Snack Foods</td>\n",
       "      <td>0</td>\n",
       "      <td>16.5710</td>\n",
       "      <td>14.9720</td>\n",
       "      <td>1.5990</td>\n",
       "      <td>50000.0</td>\n",
       "    </tr>\n",
       "    <tr>\n",
       "      <th>2</th>\n",
       "      <td>Shelf Emptiers</td>\n",
       "      <td>Supermarket</td>\n",
       "      <td>10860000.0</td>\n",
       "      <td>4452600.0</td>\n",
       "      <td>yes</td>\n",
       "      <td>2192.32</td>\n",
       "      <td>1322.21</td>\n",
       "      <td>523.32</td>\n",
       "      <td>348.850000</td>\n",
       "      <td>564.2647</td>\n",
       "      <td>...</td>\n",
       "      <td>L05es</td>\n",
       "      <td>CA</td>\n",
       "      <td>Excel</td>\n",
       "      <td>Magazines</td>\n",
       "      <td>Periodicals</td>\n",
       "      <td>1</td>\n",
       "      <td>28.6358</td>\n",
       "      <td>27.1822</td>\n",
       "      <td>1.4536</td>\n",
       "      <td>30000.0</td>\n",
       "    </tr>\n",
       "    <tr>\n",
       "      <th>3</th>\n",
       "      <td>Sale Winners</td>\n",
       "      <td>Deluxe</td>\n",
       "      <td>11560000.0</td>\n",
       "      <td>4970800.0</td>\n",
       "      <td>no</td>\n",
       "      <td>2862.30</td>\n",
       "      <td>1872.19</td>\n",
       "      <td>593.93</td>\n",
       "      <td>395.950000</td>\n",
       "      <td>519.7574</td>\n",
       "      <td>...</td>\n",
       "      <td>M10da</td>\n",
       "      <td>YU</td>\n",
       "      <td>Hermanos</td>\n",
       "      <td>Vegetables</td>\n",
       "      <td>Produce</td>\n",
       "      <td>5</td>\n",
       "      <td>12.6172</td>\n",
       "      <td>9.7100</td>\n",
       "      <td>2.9072</td>\n",
       "      <td>50000.0</td>\n",
       "    </tr>\n",
       "    <tr>\n",
       "      <th>4</th>\n",
       "      <td>Weekend Discount</td>\n",
       "      <td>Supermarket</td>\n",
       "      <td>5220000.0</td>\n",
       "      <td>1618200.0</td>\n",
       "      <td>yes</td>\n",
       "      <td>1970.17</td>\n",
       "      <td>1236.07</td>\n",
       "      <td>440.92</td>\n",
       "      <td>293.950000</td>\n",
       "      <td>364.1649</td>\n",
       "      <td>...</td>\n",
       "      <td>S03le</td>\n",
       "      <td>WA</td>\n",
       "      <td>Red Wing</td>\n",
       "      <td>Candles</td>\n",
       "      <td>Household</td>\n",
       "      <td>1</td>\n",
       "      <td>15.4081</td>\n",
       "      <td>13.9545</td>\n",
       "      <td>1.4536</td>\n",
       "      <td>30000.0</td>\n",
       "    </tr>\n",
       "  </tbody>\n",
       "</table>\n",
       "<p>5 rows × 26 columns</p>\n",
       "</div>"
      ],
      "text/plain": [
       "     Promotion Name   Store Kind  Store Sales  Store Cost Is Recyclable?  \\\n",
       "0         Dimes Off       Deluxe    8760000.0   4292400.0            yes   \n",
       "1   Budget Bargains  Supermarket    6360000.0   1971600.0             no   \n",
       "2    Shelf Emptiers  Supermarket   10860000.0   4452600.0            yes   \n",
       "3      Sale Winners       Deluxe   11560000.0   4970800.0             no   \n",
       "4  Weekend Discount  Supermarket    5220000.0   1618200.0            yes   \n",
       "\n",
       "   Store Area  Grocery Area  Frozen Area   Meat Area      Cost  ...  \\\n",
       "0     2842.23       2037.64       481.98  323.000000  602.7575  ...   \n",
       "1     2814.95       2049.72       457.36  304.976672  708.6650  ...   \n",
       "2     2192.32       1322.21       523.32  348.850000  564.2647  ...   \n",
       "3     2862.30       1872.19       593.93  395.950000  519.7574  ...   \n",
       "4     1970.17       1236.07       440.92  293.950000  364.1649  ...   \n",
       "\n",
       "  Store Code Country ISO2 Order Brand               Order   Department  \\\n",
       "0      H11go           ZA    Red Wing  Cleaning Supplies     Household   \n",
       "1      S04ne           WA   Nationeel        Snack Foods   Snack Foods   \n",
       "2      L05es           CA       Excel          Magazines   Periodicals   \n",
       "3      M10da           YU    Hermanos         Vegetables       Produce   \n",
       "4      S03le           WA    Red Wing            Candles     Household   \n",
       "\n",
       "  Amenities Score Gross Weight Net Weight Package Weight  \\\n",
       "0               5      28.1997    26.6008         1.5990   \n",
       "1               0      16.5710    14.9720         1.5990   \n",
       "2               1      28.6358    27.1822         1.4536   \n",
       "3               5      12.6172     9.7100         2.9072   \n",
       "4               1      15.4081    13.9545         1.4536   \n",
       "\n",
       "  Min. Person Yearly Income  \n",
       "0                   10000.0  \n",
       "1                   50000.0  \n",
       "2                   30000.0  \n",
       "3                   50000.0  \n",
       "4                   30000.0  \n",
       "\n",
       "[5 rows x 26 columns]"
      ]
     },
     "execution_count": 1,
     "metadata": {},
     "output_type": "execute_result"
    }
   ],
   "source": [
    "import pandas as pd\n",
    "\n",
    "df = pd.read_csv('data/market-costs.csv')\n",
    "df.head()"
   ]
  },
  {
   "cell_type": "code",
   "execution_count": 2,
   "metadata": {},
   "outputs": [],
   "source": [
    "# Applay feature selection and engineering on the dataset\n",
    "\n",
    "def wrangle(df):\n",
    "    # Step 1\n",
    "    df[\"Store CountryISO2\"] = df[\"Store Code\"] + '_' + df[\"Country ISO2\"]\n",
    "    \n",
    "    # Step 2\n",
    "    df['Income Level'] = (\n",
    "        pd.cut(\n",
    "            df['Min. Person Yearly Income'],\n",
    "            bins=[0, 25000, 50000, float('inf')],\n",
    "            labels=['Low', 'Middle', 'High']\n",
    "        )\n",
    "        .astype(\"object\")\n",
    "    )\n",
    "    \n",
    "    # Step 3\n",
    "    df['Price Tier'] = (\n",
    "        pd.cut(\n",
    "            df['Gross Weight'],\n",
    "            bins=[0, 5, 10, float('inf')],\n",
    "            labels=['Low Price', 'Medium Price', 'High Price']\n",
    "        )\n",
    "        .astype(\"object\")\n",
    "    )\n",
    "    \n",
    "    # Step 4\n",
    "    order_popularity = df['Order'].value_counts().reset_index()\n",
    "    order_popularity.columns = ['Order', 'Order Popularity']\n",
    "    df = df.merge(order_popularity, on='Order', how='left')\n",
    "    \n",
    "    # Step 5\n",
    "    def calculate_family_expenses(row):\n",
    "        if row[\"Marriage\"] == \"Married\":\n",
    "            return row[\"Min. Person Yearly Income\"] / (row[\"Children\"] + 2)\n",
    "        else:\n",
    "            return row[\"Min. Person Yearly Income\"] / (row[\"Children\"] + 1)\n",
    "\n",
    "    children_mapping = {\n",
    "        'No': 0,\n",
    "        'one': 1,\n",
    "        'two': 2,\n",
    "        'three': 3,\n",
    "        'four': 4,\n",
    "        'five': 5\n",
    "    }\n",
    "\n",
    "    temp_df = df.copy()\n",
    "    temp_df['Children'] = temp_df['Children'].map(children_mapping)\n",
    "    temp_df[\"Family Expenses\"] = temp_df.apply(lambda row: calculate_family_expenses(row), axis=1)\n",
    "    df[\"Family Expenses\"] = temp_df[\"Family Expenses\"]\n",
    "    \n",
    "    # Step 6\n",
    "    person_description = [\"Gender\", \"Marriage\", \"Children\", \"Degree\", \"Work\"]\n",
    "    for col in person_description:\n",
    "        df['Promotion '+ col] = df['Promotion Name'] + ' ' + df[col]\n",
    "\n",
    "    df['Promotion Name Length'] = (df['Promotion Name'].apply(lambda x: len(x))).astype(int)\n",
    "    \n",
    "    # Step 7\n",
    "    df.drop(columns=[\"Store Sales\", \"Frozen Area\", \"Net Weight\", \"Store Area\", 'Is Recyclable?'], inplace = True)\n",
    "    \n",
    "    return df\n",
    "\n",
    "df = wrangle(df)"
   ]
  },
  {
   "cell_type": "code",
   "execution_count": 4,
   "metadata": {},
   "outputs": [],
   "source": [
    "# Save the train and test sets with .parquet for creating the job later\n",
    "from sklearn.model_selection import train_test_split\n",
    "\n",
    "train_set, test_set = train_test_split(df, test_size=0.2, random_state=42)\n",
    "\n",
    "train_set.to_parquet(\"data/train.parquet\", index=False)\n",
    "test_set.to_parquet(\"data/test.parquet\", index=False)"
   ]
  },
  {
   "cell_type": "code",
   "execution_count": 5,
   "metadata": {},
   "outputs": [],
   "source": [
    "# Split train and test data into features X and targets Y.\n",
    "from sklearn.model_selection import train_test_split\n",
    "\n",
    "X = df.drop(columns=\"Cost\")\n",
    "y = df[\"Cost\"]\n",
    "X_train, X_test, y_train, y_test = train_test_split(X, y, test_size=0.2, random_state=42)"
   ]
  },
  {
   "cell_type": "markdown",
   "metadata": {},
   "source": [
    "## Modeling"
   ]
  },
  {
   "cell_type": "code",
   "execution_count": 6,
   "metadata": {},
   "outputs": [],
   "source": [
    "# Setup a preprocessor for the categorical data\n",
    "\n",
    "from sklearn.preprocessing import OrdinalEncoder\n",
    "from sklearn.compose import ColumnTransformer\n",
    "\n",
    "categorical_columns = X.select_dtypes(\"object\").columns\n",
    "\n",
    "preprocessor = ColumnTransformer(\n",
    "    transformers=[\n",
    "        ('cat', OrdinalEncoder(), categorical_columns)\n",
    "    ]\n",
    ")"
   ]
  },
  {
   "cell_type": "code",
   "execution_count": 7,
   "metadata": {},
   "outputs": [
    {
     "data": {
      "text/plain": [
       "Pipeline(steps=[('columntransformer',\n",
       "                 ColumnTransformer(transformers=[('cat', OrdinalEncoder(),\n",
       "                                                  Index(['Promotion Name', 'Store Kind', 'Degree Work', 'Marriage', 'Gender',\n",
       "       'Children', 'Degree', 'Work', 'Store Code', 'Country ISO2',\n",
       "       'Order Brand', 'Order', 'Department', 'Store CountryISO2',\n",
       "       'Income Level', 'Price Tier', 'Promotion Gender', 'Promotion Marriage',\n",
       "       'Promotion Children', 'Promotion Degree', 'Promotion Work'],\n",
       "      dtype='object'))])),\n",
       "                ('extratreesregressor',\n",
       "                 ExtraTreesRegressor(max_depth=16, n_estimators=350, n_jobs=-1,\n",
       "                                     random_state=42))])"
      ]
     },
     "execution_count": 7,
     "metadata": {},
     "output_type": "execute_result"
    }
   ],
   "source": [
    "# Fitting the model\n",
    "from sklearn.pipeline import make_pipeline\n",
    "from sklearn.ensemble import ExtraTreesRegressor\n",
    "\n",
    "model = make_pipeline(\n",
    "    preprocessor,\n",
    "    ExtraTreesRegressor(n_estimators=350, max_depth=16, n_jobs=-1, random_state=42)\n",
    ")\n",
    "\n",
    "model.fit(X_train, y_train)"
   ]
  },
  {
   "cell_type": "code",
   "execution_count": 8,
   "metadata": {},
   "outputs": [
    {
     "name": "stdout",
     "output_type": "stream",
     "text": [
      "train: 21.989246883406977, test: 43.86509966666313\n"
     ]
    }
   ],
   "source": [
    "from sklearn.metrics import mean_squared_error\n",
    "import numpy as np\n",
    "\n",
    "y_train_pred = model.predict(X_train)\n",
    "y_test_pred = model.predict(X_test)\n",
    "\n",
    "train_rmse = np.sqrt(mean_squared_error(y_train, y_train_pred))\n",
    "test_rmse = np.sqrt(mean_squared_error(y_test, y_test_pred))\n",
    "\n",
    "print(f\"train: {train_rmse}, test: {test_rmse}\")"
   ]
  },
  {
   "cell_type": "markdown",
   "metadata": {},
   "source": [
    "## Register the training and test data"
   ]
  },
  {
   "cell_type": "code",
   "execution_count": 11,
   "metadata": {
    "gather": {
     "logged": 1684434356366
    }
   },
   "outputs": [
    {
     "name": "stderr",
     "output_type": "stream",
     "text": [
      "Found the config file in: .\\config.json\n"
     ]
    }
   ],
   "source": [
    "# First we must create a cloud client\n",
    "\n",
    "from azure.ai.ml import MLClient\n",
    "from azure.identity import DefaultAzureCredential\n",
    "\n",
    "credential = DefaultAzureCredential()\n",
    "ml_client = MLClient.from_config(credential=credential)"
   ]
  },
  {
   "cell_type": "code",
   "execution_count": 12,
   "metadata": {
    "gather": {
     "logged": 1684434358363
    }
   },
   "outputs": [],
   "source": [
    "from azure.ai.ml.entities import Data\n",
    "from azure.ai.ml.constants import AssetTypes\n",
    "\n",
    "train_data_name = 'market_train'\n",
    "test_data_name = 'market_test'\n",
    "\n",
    "training_data = Data(\n",
    "    name=train_data_name,\n",
    "    path='../data/train.parquet',\n",
    "    type=AssetTypes.URI_FILE,\n",
    "    description='RAI market train data'\n",
    ")\n",
    "tr_data = ml_client.data.create_or_update(training_data)\n",
    "\n",
    "test_data = Data(\n",
    "    name=test_data_name,\n",
    "    path='../data/test.parquet',\n",
    "    type=AssetTypes.URI_FILE,\n",
    "    description='RAI market test data'\n",
    ")\n",
    "ts_data = ml_client.data.create_or_update(test_data)"
   ]
  },
  {
   "cell_type": "markdown",
   "metadata": {},
   "source": [
    "## Create a compute cluster"
   ]
  },
  {
   "cell_type": "code",
   "execution_count": null,
   "metadata": {
    "collapsed": false,
    "gather": {
     "logged": 1684434419020
    },
    "jupyter": {
     "outputs_hidden": false,
     "source_hidden": false
    },
    "nteract": {
     "transient": {
      "deleting": false
     }
    }
   },
   "outputs": [],
   "source": [
    "from azure.ai.ml.entities import AmlCompute\n",
    "import time\n",
    "\n",
    "compute_name = 'trainingcompute'\n",
    "\n",
    "my_compute = AmlCompute(\n",
    "    name=compute_name,\n",
    "    size='Standard_DS12_v2',\n",
    "    min_instances=0,\n",
    "    max_instances=4,\n",
    "    idle_time_before_scale_down=3600\n",
    ")\n",
    "ml_client.compute.begin_create_or_update(my_compute).result()"
   ]
  },
  {
   "cell_type": "markdown",
   "metadata": {},
   "source": [
    "## Create the job"
   ]
  },
  {
   "cell_type": "code",
   "execution_count": null,
   "metadata": {
    "gather": {
     "logged": 1684434758448
    }
   },
   "outputs": [],
   "source": [
    "from azure.ai.ml import command, Input, Output\n",
    "\n",
    "target_column_name = 'Cost'\n",
    "\n",
    "# Create the job\n",
    "job = command(\n",
    "    description='Trains market cost model',\n",
    "    experiment_name='market_costs_test',\n",
    "    compute=compute_name,\n",
    "    inputs=dict(training_data=Input(type='uri_file', path=f'{train_data_name}@latest'), \n",
    "                target_column_name=target_column_name),\n",
    "    outputs=dict(model_output=Output(type=AssetTypes.MLFLOW_MODEL)),\n",
    "    code='../src/',\n",
    "    environment='azureml://registries/azureml/environments/responsibleai-ubuntu20.04-py38-cpu/versions/37',\n",
    "    command='python train.py ' + \n",
    "            '--training_data ${{inputs.training_data}} ' +\n",
    "            '--target_column_name ${{inputs.target_column_name}} ' +\n",
    "            '--model_output ${{outputs.model_output}}'\n",
    ")\n",
    "job = ml_client.jobs.create_or_update(job)\n",
    "ml_client.jobs.stream(job.name)"
   ]
  },
  {
   "cell_type": "markdown",
   "metadata": {},
   "source": [
    "## Register the model"
   ]
  },
  {
   "cell_type": "code",
   "execution_count": 16,
   "metadata": {
    "gather": {
     "logged": 1684434758713
    }
   },
   "outputs": [],
   "source": [
    "from azure.ai.ml.entities import Model\n",
    "\n",
    "model_name = 'market_cost_model'\n",
    "\n",
    "# Register the model.\n",
    "model_path = f'azureml://jobs/{job.name}/outputs/model_output'\n",
    "model = Model(name=model_name,\n",
    "                path=model_path,\n",
    "                type=AssetTypes.MLFLOW_MODEL)\n",
    "registered_model = ml_client.models.create_or_update(model)"
   ]
  },
  {
   "cell_type": "code",
   "execution_count": null,
   "metadata": {},
   "outputs": [],
   "source": []
  }
 ],
 "metadata": {
  "kernel_info": {
   "name": "python38-azureml"
  },
  "kernelspec": {
   "display_name": "Python 3 (ipykernel)",
   "language": "python",
   "name": "python3"
  },
  "language_info": {
   "codemirror_mode": {
    "name": "ipython",
    "version": 3
   },
   "file_extension": ".py",
   "mimetype": "text/x-python",
   "name": "python",
   "nbconvert_exporter": "python",
   "pygments_lexer": "ipython3",
   "version": "3.9.12"
  },
  "microsoft": {
   "host": {
    "AzureML": {
     "notebookHasBeenCompleted": true
    }
   },
   "ms_spell_check": {
    "ms_spell_check_language": "en"
   }
  },
  "nteract": {
   "version": "nteract-front-end@1.0.0"
  }
 },
 "nbformat": 4,
 "nbformat_minor": 4
}
